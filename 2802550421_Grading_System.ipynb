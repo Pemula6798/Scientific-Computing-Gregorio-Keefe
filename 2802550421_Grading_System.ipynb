{
  "nbformat": 4,
  "nbformat_minor": 0,
  "metadata": {
    "colab": {
      "provenance": [],
      "authorship_tag": "ABX9TyNQayrlb5qSOWQU9cEBL7t8",
      "include_colab_link": true
    },
    "kernelspec": {
      "name": "python3",
      "display_name": "Python 3"
    },
    "language_info": {
      "name": "python"
    }
  },
  "cells": [
    {
      "cell_type": "markdown",
      "metadata": {
        "id": "view-in-github",
        "colab_type": "text"
      },
      "source": [
        "<a href=\"https://colab.research.google.com/github/Pemula6798/Scientific-Computing-Gregorio-Keefe/blob/main/2802550421_Grading_System.ipynb\" target=\"_parent\"><img src=\"https://colab.research.google.com/assets/colab-badge.svg\" alt=\"Open In Colab\"/></a>"
      ]
    },
    {
      "cell_type": "code",
      "source": [
        "def login():\n",
        "  userConst = \"Gregorio\"\n",
        "  passwordConst = \"Bn123\"\n",
        "\n",
        "  while True:\n",
        "    username = input(\"Masukkan username anda: \")\n",
        "    password = input(\"Masukkan password anda: \")\n",
        "\n",
        "    if username == userConst and password == passwordConst:\n",
        "      print(\"Login berhasil!, Selamat datang \" + username)\n",
        "      break\n",
        "    else:\n",
        "      print(\"Incorret Password\")"
      ],
      "metadata": {
        "id": "jUm7fFccjltQ"
      },
      "execution_count": 8,
      "outputs": []
    },
    {
      "cell_type": "code",
      "source": [
        "def Calculate():\n",
        "  while True:\n",
        "    namaSiswa = input(\"Masukkan nama siswa : \")\n",
        "    if namaSiswa.isalpha():\n",
        "      break\n",
        "    else:\n",
        "      print(\"Nama tidak boleh mengandung angka. Silakan masukkan kembali.\")\n",
        "\n",
        "  while True:\n",
        "    try:\n",
        "      uas = int(input(\"Masukkan Nilai UAS : \"))\n",
        "      if 0 <= uas <= 100:\n",
        "        break\n",
        "      else:\n",
        "        print(\"Nilai UAS harus di antara 0 dan 100. Silakan masukkan kembali.\")\n",
        "    except ValueError:\n",
        "      print(\"Nilai UAS harus berupa angka. Silakan masukkan kembali.\")\n",
        "\n",
        "  while True:\n",
        "    try:\n",
        "      uts = int(input(\"Masukkan Nilai UTS : \"))\n",
        "      if 0 <= uts <= 100:\n",
        "        break\n",
        "      else:\n",
        "        print(\"Nilai UTS harus di antara 0 dan 100. Silakan masukkan kembali.\")\n",
        "    except ValueError:\n",
        "      print(\"Nilai UTS harus berupa angka. Silakan masukkan kembali.\")\n",
        "\n",
        "  while True:\n",
        "    try:\n",
        "      tugas = int(input(\"Masukkan Nilai Assigment : \"))\n",
        "      if 0 <= tugas <= 100:\n",
        "        break\n",
        "      else:\n",
        "        print(\"Nilai Assigment harus di antara 0 dan 100. Silakan masukkan kembali.\")\n",
        "    except ValueError:\n",
        "      print(\"Nilai Assigment harus berupa angka. Silakan masukkan kembali.\")\n",
        "\n",
        "  return namaSiswa, uas, uts, tugas"
      ],
      "metadata": {
        "id": "uqbk4OQ-jogW"
      },
      "execution_count": 15,
      "outputs": []
    },
    {
      "cell_type": "code",
      "source": [
        "def Grading(nama, uas, uts, tugas):\n",
        "  Hasil = float(uas*0.5 + uts*0.3 + tugas*0.2)\n",
        "  print(\"Hasil perolehan nilai \" + nama)\n",
        "  print(\"Final Score: \" + str(Hasil))\n",
        "\n",
        "  if Hasil >= 89:\n",
        "    print(\"Grade A\")\n",
        "  elif Hasil >= 84:\n",
        "    print(\"Grade A-\")\n",
        "  elif Hasil >= 79:\n",
        "    print(\"Grade B+\")\n",
        "  elif Hasil >= 74:\n",
        "    print(\"Grade B\")\n",
        "  elif Hasil >= 69:\n",
        "    print(\"Grade B-\")\n",
        "  elif Hasil >= 64:\n",
        "    print(\"Grade C\")\n",
        "  elif Hasil >= 49:\n",
        "    print(\"Grade D\")\n",
        "  elif Hasil >= 1:\n",
        "    print(\"Grade E\")\n",
        "  else:\n",
        "    print(\"Grade F\")"
      ],
      "metadata": {
        "id": "Qbr3iPlCjvkU"
      },
      "execution_count": 10,
      "outputs": []
    },
    {
      "cell_type": "markdown",
      "source": [
        "Ini grade nya yg E kalau range 0-49 grade F nya tidak ada jadi yg E saya kasih range 1-49"
      ],
      "metadata": {
        "id": "opxv5a052pch"
      }
    },
    {
      "cell_type": "code",
      "source": [
        "def main_program():\n",
        "  login()\n",
        "  nama, uas, uts, tugas = Calculate()\n",
        "  Grading(nama, uas, uts, tugas)"
      ],
      "metadata": {
        "id": "6AKx_FnYj10X"
      },
      "execution_count": 11,
      "outputs": []
    },
    {
      "cell_type": "markdown",
      "source": [
        "Semua program diatas harus di run dulu baru main program ini bisa di run, atau dijadikan 1 bagian baru bisa"
      ],
      "metadata": {
        "id": "ggHlfuA23WvT"
      }
    },
    {
      "cell_type": "code",
      "source": [
        "main_program()"
      ],
      "metadata": {
        "colab": {
          "base_uri": "https://localhost:8080/"
        },
        "id": "3_MMH9ZCj3qs",
        "outputId": "4d791019-5539-48ef-aa1b-e608528f6baf"
      },
      "execution_count": 16,
      "outputs": [
        {
          "output_type": "stream",
          "name": "stdout",
          "text": [
            "Masukkan username anda: Gregorio\n",
            "Masukkan password anda: 123\n",
            "Incorret Password\n",
            "Masukkan username anda: Gregorio\n",
            "Masukkan password anda: Bn123\n",
            "Login berhasil!, Selamat datang Gregorio\n",
            "Masukkan nama siswa : 123\n",
            "Nama tidak boleh mengandung angka. Silakan masukkan kembali.\n",
            "Masukkan nama siswa : Budi1\n",
            "Nama tidak boleh mengandung angka. Silakan masukkan kembali.\n",
            "Masukkan nama siswa : Budi\n",
            "Masukkan Nilai UAS : k\n",
            "Nilai UAS harus berupa angka. Silakan masukkan kembali.\n",
            "Masukkan Nilai UAS : 90\n",
            "Masukkan Nilai UTS : 75\n",
            "Masukkan Nilai Assigment : 98\n",
            "Hasil perolehan nilai Budi\n",
            "Final Score: 87.1\n",
            "Grade A-\n"
          ]
        }
      ]
    }
  ]
}