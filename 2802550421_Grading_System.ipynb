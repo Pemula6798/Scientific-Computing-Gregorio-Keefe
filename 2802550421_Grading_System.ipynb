{
  "nbformat": 4,
  "nbformat_minor": 0,
  "metadata": {
    "colab": {
      "provenance": [],
      "authorship_tag": "ABX9TyNEYbL2XpnDCXElKTZ5nn8f",
      "include_colab_link": true
    },
    "kernelspec": {
      "name": "python3",
      "display_name": "Python 3"
    },
    "language_info": {
      "name": "python"
    }
  },
  "cells": [
    {
      "cell_type": "markdown",
      "metadata": {
        "id": "view-in-github",
        "colab_type": "text"
      },
      "source": [
        "<a href=\"https://colab.research.google.com/github/Pemula6798/Scientific-Computing-Gregorio-Keefe/blob/main/2802550421_Grading_System.ipynb\" target=\"_parent\"><img src=\"https://colab.research.google.com/assets/colab-badge.svg\" alt=\"Open In Colab\"/></a>"
      ]
    },
    {
      "cell_type": "code",
      "source": [
        "def login():\n",
        "  userConst = \"Gregorio\"\n",
        "  passwordConst = \"Bn123\"\n",
        "\n",
        "  while True:\n",
        "    username = input(\"Masukkan username anda: \")\n",
        "    password = input(\"Masukkan password anda: \")\n",
        "\n",
        "    if username == userConst and password == passwordConst:\n",
        "      print(\"Login berhasil!, Selamat datang \" + username)\n",
        "      break\n",
        "    else:\n",
        "      print(\"Incorret Password\")"
      ],
      "metadata": {
        "id": "jUm7fFccjltQ"
      },
      "execution_count": 23,
      "outputs": []
    },
    {
      "cell_type": "code",
      "source": [
        "def Calculate():\n",
        "  namaSiswa = input(\"Masukkan nama siswa : \")\n",
        "  while True:\n",
        "    uas = int(input(\"Masukkan Nilai UAS : \"))\n",
        "    if 0 <= uas <= 100:\n",
        "      break\n",
        "    else:\n",
        "      print(\"Nilai UAS harus di antara 0 dan 100. Silakan masukkan kembali.\")\n",
        "\n",
        "  while True:\n",
        "    uts = int(input(\"Masukkan Nilai UTS : \"))\n",
        "    if 0 <= uts <= 100:\n",
        "      break\n",
        "    else:\n",
        "      print(\"Nilai UTS harus di antara 0 dan 100. Silakan masukkan kembali.\")\n",
        "\n",
        "  while True:\n",
        "    tugas = int(input(\"Masukkan Nilai Assigment : \"))\n",
        "    if 0 <= tugas <= 100:\n",
        "      break\n",
        "    else:\n",
        "      print(\"Nilai Assigment harus di antara 0 dan 100. Silakan masukkan kembali.\")\n",
        "  return namaSiswa, uas, uts, tugas"
      ],
      "metadata": {
        "id": "uqbk4OQ-jogW"
      },
      "execution_count": 24,
      "outputs": []
    },
    {
      "cell_type": "code",
      "source": [
        "def Grading(nama, uas, uts, tugas):\n",
        "  Hasil = float(uas*0.5 + uts*0.3 + tugas*0.2)\n",
        "  print(\"Hasil perolehan nilai \" + nama)\n",
        "  print(\"Final Score: \" + str(Hasil))\n",
        "\n",
        "  if Hasil >= 89:\n",
        "    print(\"Grade A\")\n",
        "  elif Hasil >= 84:\n",
        "    print(\"Grade A-\")\n",
        "  elif Hasil >= 79:\n",
        "    print(\"Grade B+\")\n",
        "  elif Hasil >= 74:\n",
        "    print(\"Grade B\")\n",
        "  elif Hasil >= 69:\n",
        "    print(\"Grade B-\")\n",
        "  elif Hasil >= 64:\n",
        "    print(\"Grade C\")\n",
        "  elif Hasil >= 49:\n",
        "    print(\"Grade D\")\n",
        "  else:\n",
        "    print(\"Grade E\")"
      ],
      "metadata": {
        "id": "Qbr3iPlCjvkU"
      },
      "execution_count": 25,
      "outputs": []
    },
    {
      "cell_type": "code",
      "source": [
        "def main_program():\n",
        "  login()\n",
        "  nama, uas, uts, tugas = Calculate()\n",
        "  Grading(nama, uas, uts, tugas)"
      ],
      "metadata": {
        "id": "6AKx_FnYj10X"
      },
      "execution_count": 26,
      "outputs": []
    },
    {
      "cell_type": "code",
      "source": [
        "main_program()"
      ],
      "metadata": {
        "colab": {
          "base_uri": "https://localhost:8080/"
        },
        "id": "3_MMH9ZCj3qs",
        "outputId": "1cb68cd0-2ac7-4548-ca57-da6277d0e236"
      },
      "execution_count": 28,
      "outputs": [
        {
          "output_type": "stream",
          "name": "stdout",
          "text": [
            "Masukkan username anda: Gregorio\n",
            "Masukkan password anda: Bn123\n",
            "Login berhasil!, Selamat datang Gregorio\n",
            "Masukkan nama siswa : BUdi\n",
            "Masukkan Nilai UAS : 78\n",
            "Masukkan Nilai UTS : 80\n",
            "Masukkan Nilai Assigment : 10\n",
            "Hasil perolehan nilai BUdi\n",
            "Final Score: 65.0\n",
            "Grade C\n"
          ]
        }
      ]
    }
  ]
}