{
  "nbformat": 4,
  "nbformat_minor": 0,
  "metadata": {
    "colab": {
      "provenance": [],
      "authorship_tag": "ABX9TyNS2RekYRWtK4z4G7CSQgjQ",
      "include_colab_link": true
    },
    "kernelspec": {
      "name": "python3",
      "display_name": "Python 3"
    },
    "language_info": {
      "name": "python"
    }
  },
  "cells": [
    {
      "cell_type": "markdown",
      "metadata": {
        "id": "view-in-github",
        "colab_type": "text"
      },
      "source": [
        "<a href=\"https://colab.research.google.com/github/Pemula6798/Scientific-Computing-Gregorio-Keefe/blob/main/Modul_2.ipynb\" target=\"_parent\"><img src=\"https://colab.research.google.com/assets/colab-badge.svg\" alt=\"Open In Colab\"/></a>"
      ]
    },
    {
      "cell_type": "markdown",
      "source": [
        "Soal 1 dan 2 bagian A"
      ],
      "metadata": {
        "id": "G0b7MfGO6RRt"
      }
    },
    {
      "cell_type": "code",
      "source": [
        "#Soal 1a\n",
        "# Sistem persamaan:\n",
        "# x = (10 - 3y + z) / 10\n",
        "# y = (x + 2z - 4) / 1\n",
        "# z = (14 - 3x - 2y) / 1\n",
        "\n",
        "x, y, z = 5, 5, 5\n",
        "tolerance = 0.001\n",
        "max_iter = 10\n",
        "iter_count = 0\n",
        "\n",
        "while True:\n",
        "    x_old, y_old, z_old = x, y, z\n",
        "\n",
        "\n",
        "    x = (10 - 3*y + z) / 10\n",
        "    y = (x + 2*z - 4) / 1\n",
        "    z = (14 - 3*x - 2*y) / 1\n",
        "\n",
        "    iter_count += 1\n",
        "    print(f\"Iterasi {iter_count}: x = {x:.4f}, y = {y:.4f}, z = {z:.4f}\")\n",
        "\n",
        "    if abs(x - x_old) < tolerance and abs(y - y_old) < tolerance and abs(z - z_old) < tolerance:\n",
        "        break\n",
        "\n",
        "    if iter_count >= max_iter:\n",
        "        print(\"\\nTidak konvergen dalam batas iterasi\\n\")\n",
        "        break\n",
        "\n",
        "print(f\"Solusi akhir: x = {x:.4f}, y = {y:.4f}, z = {z:.4f}\")\n"
      ],
      "metadata": {
        "colab": {
          "base_uri": "https://localhost:8080/"
        },
        "id": "BTiFrzmq2O0U",
        "outputId": "a871c3a2-c6e4-4c4f-9544-4ce7e11911f0"
      },
      "execution_count": 40,
      "outputs": [
        {
          "output_type": "stream",
          "name": "stdout",
          "text": [
            "Iterasi 1: x = 0.0000, y = 6.0000, z = 2.0000\n",
            "Iterasi 2: x = -0.6000, y = -0.6000, z = 17.0000\n",
            "Iterasi 3: x = 2.8800, y = 32.8800, z = -60.4000\n",
            "Iterasi 4: x = -14.9040, y = -139.7040, z = 338.1200\n",
            "Iterasi 5: x = 76.7232, y = 748.9632, z = -1714.0960\n",
            "Iterasi 6: x = -395.0986, y = -3827.2906, z = 8853.8768\n",
            "Iterasi 7: x = 2034.5748, y = 19738.3284, z = -45566.3814\n",
            "Iterasi 8: x = -10477.1367, y = -101613.8996, z = 234673.2092\n",
            "Iterasi 9: x = 53952.4908, y = 523294.9091, z = -1208433.2905\n",
            "Iterasi 10: x = -277830.8018, y = -2694701.3828, z = 6222909.1710\n",
            "\n",
            "Tidak konvergen dalam batas iterasi\n",
            "\n",
            "Solusi akhir: x = -277830.8018, y = -2694701.3828, z = 6222909.1710\n"
          ]
        }
      ]
    },
    {
      "cell_type": "code",
      "source": [
        "#soal 2a\n",
        "# x = (7.85 + 0.1y + 0.2z) / 3\n",
        "# y = (-19.3 - 0.1x + 0.3z) / 7\n",
        "# z = (71.4 - 0.3x + 0.2y) / 10\n",
        "\n",
        "x, y, z = 1, 2, 3\n",
        "tolerance = 0.001\n",
        "max_iter = 100\n",
        "iter_count = 0\n",
        "\n",
        "while True:\n",
        "    x_old, y_old, z_old = x, y, z\n",
        "\n",
        "    x = (7.85 + 0.1*y + 0.2*z) / 3\n",
        "    y = (-19.3 - 0.1*x + 0.3*z) / 7\n",
        "    z = (71.4 - 0.3*x + 0.2*y) / 10\n",
        "\n",
        "    iter_count += 1\n",
        "    print(f\"Iterasi {iter_count}: x = {x:.4f}, y = {y:.4f}, z = {z:.4f}\")\n",
        "\n",
        "    if abs(x - x_old) < tolerance and abs(y - y_old) < tolerance and abs(z - z_old) < tolerance:\n",
        "        break\n",
        "\n",
        "    if iter_count >= max_iter:\n",
        "        print(\"Tidak konvergen dalam batas iterasi\")\n",
        "        break\n",
        "\n",
        "print(f\"Solusi akhir: x = {x:.4f}, y = {y:.4f}, z = {z:.4f}\")"
      ],
      "metadata": {
        "colab": {
          "base_uri": "https://localhost:8080/"
        },
        "id": "ur9sqXU35dNR",
        "outputId": "9e3df9e4-2142-4ea3-9cc1-668c0ee4674b"
      },
      "execution_count": 34,
      "outputs": [
        {
          "output_type": "stream",
          "name": "stdout",
          "text": [
            "Iterasi 1: x = 2.8833, y = -2.6698, z = 7.0001\n",
            "Iterasi 2: x = 2.9943, y = -2.4999, z = 7.0002\n",
            "Iterasi 3: x = 3.0000, y = -2.5000, z = 7.0000\n",
            "Iterasi 4: x = 3.0000, y = -2.5000, z = 7.0000\n",
            "Solusi akhir: x = 3.0000, y = -2.5000, z = 7.0000\n"
          ]
        }
      ]
    },
    {
      "cell_type": "markdown",
      "source": [
        "Soal 1 dan 2 Bagian B"
      ],
      "metadata": {
        "id": "byLZAPfM6Txe"
      }
    },
    {
      "cell_type": "code",
      "source": [
        "import numpy as np\n",
        "\n",
        "# Soal 1b dengan NumPy\n",
        "A1 = np.array([[2, 3, -1],\n",
        "               [1, -1, 2],\n",
        "               [3, 2, 1]])\n",
        "B1 = np.array([10, 4, 14])\n",
        "\n",
        "\n",
        "sol1_numpy = np.linalg.solve(A1, B1)\n",
        "\n",
        "print(\"Hasil NumPy (Soal 1):\", sol1_numpy)\n",
        "\n",
        "# Soal 2b dengan NumPy\n",
        "A2 = np.array([[3, -0.1, -0.2],\n",
        "               [0.1, 7, -0.3],\n",
        "               [0.3, -0.2, 10]])\n",
        "B2 = np.array([7.85, -19.3, 71.4])\n",
        "sol2_numpy = np.linalg.solve(A2, b2)\n",
        "print(\"Hasil NumPy (Soal 2):\", sol2_numpy)"
      ],
      "metadata": {
        "colab": {
          "base_uri": "https://localhost:8080/"
        },
        "id": "A0zgQOQWpTH8",
        "outputId": "2f078bc3-6945-40ed-e0ff-1e8c734ad498"
      },
      "execution_count": 35,
      "outputs": [
        {
          "output_type": "stream",
          "name": "stdout",
          "text": [
            "Hasil NumPy (Soal 1): [0.65 4.15 3.75]\n",
            "Hasil NumPy (Soal 2): [ 3.  -2.5  7. ]\n"
          ]
        }
      ]
    },
    {
      "cell_type": "markdown",
      "source": [
        "Soal 3"
      ],
      "metadata": {
        "id": "uVMWROWI6Xnt"
      }
    },
    {
      "cell_type": "code",
      "source": [
        "import numpy as np\n",
        "from scipy import optimize\n",
        "import matplotlib.pyplot as plt\n",
        "\n",
        "X = np.array([5, 4, 6, 7, 2])\n",
        "Y = np.array([10, 8, 12, 14, 10])\n",
        "\n",
        "A = np.vstack([X, np.ones(len(X))]).T\n",
        "\n",
        "alpha = np.linalg.lstsq(A, Y, rcond=None)[0]\n",
        "Y = Y[:, np.newaxis]\n",
        "\n",
        "alpha = np.dot(np.linalg.inv(np.dot(A.T, A)), np.dot(A.T, Y))\n",
        "\n",
        "print(f\"Regresi Linear: y = {alpha[0][0]:.4f}x + {alpha[1][0]:.4f}\")\n",
        "\n",
        "plt.figure(figsize=(10, 6))\n",
        "plt.scatter(X, Y, color='red', label='Data')\n",
        "plt.plot(X, alpha[0] * X + alpha[1], 'b', label='Regresi Linear')\n",
        "plt.xlabel('X')\n",
        "plt.ylabel('Y')\n",
        "plt.legend()\n",
        "plt.show()"
      ],
      "metadata": {
        "colab": {
          "base_uri": "https://localhost:8080/",
          "height": 559
        },
        "id": "66uGaqxGpsop",
        "outputId": "d21d8499-61a5-4f76-e106-4e1e892a8e75"
      },
      "execution_count": 15,
      "outputs": [
        {
          "output_type": "stream",
          "name": "stdout",
          "text": [
            "Regresi Linear: y = 0.8649x + 6.6486\n"
          ]
        },
        {
          "output_type": "display_data",
          "data": {
            "text/plain": [
              "<Figure size 1000x600 with 1 Axes>"
            ],
            "image/png": "[encoded data removed]"
          },
          "metadata": {}
        }
      ]
    }
  ]
}